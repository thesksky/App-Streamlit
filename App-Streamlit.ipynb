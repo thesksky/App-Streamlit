{
 "cells": [
  {
   "cell_type": "code",
   "execution_count": 1,
   "id": "5ec6538a",
   "metadata": {},
   "outputs": [],
   "source": [
    "import streamlit as st\n",
    "import requests\n",
    "import pandas as pd\n",
    "import matplotlib.pyplot as plt\n",
    "\n",
    "from dotenv import load_dotenv\n",
    "import os\n",
    "\n",
    "load_dotenv()\n",
    "api_key = os.getenv(\"API_KEY\")"
   ]
  },
  {
   "cell_type": "markdown",
   "id": "054166f4",
   "metadata": {},
   "source": [
    "Streamlit simplifies the process of deploying Python scripts as web applications. By incorporating a few Streamlit commands into  Python script, we can create interactive web apps without the need for extensive front-end development knowledge. Once the script is ready, we can easily deploy it to platforms like Streamlit Community Cloud or Heroku, making our data-driven applications accessible to a wider audience. Creating a simple web app for the CatAPI scraping project."
   ]
  },
  {
   "cell_type": "code",
   "execution_count": 2,
   "id": "076e1103",
   "metadata": {},
   "outputs": [
    {
     "name": "stderr",
     "output_type": "stream",
     "text": [
      "2024-11-19 17:53:08.505 WARNING streamlit.runtime.scriptrunner_utils.script_run_context: Thread 'MainThread': missing ScriptRunContext! This warning can be ignored when running in bare mode.\n",
      "2024-11-19 17:53:09.756 \n",
      "  \u001b[33m\u001b[1mWarning:\u001b[0m to view this Streamlit app on a browser, run it with the following\n",
      "  command:\n",
      "\n",
      "    streamlit run C:\\Users\\thesk\\anaconda3\\lib\\site-packages\\ipykernel_launcher.py [ARGUMENTS]\n",
      "2024-11-19 17:53:09.758 Thread 'MainThread': missing ScriptRunContext! This warning can be ignored when running in bare mode.\n",
      "2024-11-19 17:53:09.760 Thread 'MainThread': missing ScriptRunContext! This warning can be ignored when running in bare mode.\n",
      "2024-11-19 17:53:09.762 Thread 'MainThread': missing ScriptRunContext! This warning can be ignored when running in bare mode.\n",
      "2024-11-19 17:53:09.763 Thread 'MainThread': missing ScriptRunContext! This warning can be ignored when running in bare mode.\n",
      "2024-11-19 17:53:09.765 Thread 'MainThread': missing ScriptRunContext! This warning can be ignored when running in bare mode.\n",
      "2024-11-19 17:53:09.766 Thread 'MainThread': missing ScriptRunContext! This warning can be ignored when running in bare mode.\n",
      "2024-11-19 17:53:09.768 Thread 'MainThread': missing ScriptRunContext! This warning can be ignored when running in bare mode.\n",
      "2024-11-19 17:53:09.774 Thread 'MainThread': missing ScriptRunContext! This warning can be ignored when running in bare mode.\n",
      "2024-11-19 17:53:09.776 Thread 'MainThread': missing ScriptRunContext! This warning can be ignored when running in bare mode.\n",
      "2024-11-19 17:53:09.778 Thread 'MainThread': missing ScriptRunContext! This warning can be ignored when running in bare mode.\n",
      "2024-11-19 17:53:09.781 Thread 'MainThread': missing ScriptRunContext! This warning can be ignored when running in bare mode.\n",
      "2024-11-19 17:53:09.782 Thread 'MainThread': missing ScriptRunContext! This warning can be ignored when running in bare mode.\n",
      "2024-11-19 17:53:09.785 Thread 'MainThread': missing ScriptRunContext! This warning can be ignored when running in bare mode.\n"
     ]
    }
   ],
   "source": [
    "# App-Streamlit.py\n",
    "\n",
    "# Title of the app\n",
    "st.title(\"Cats API Scraper without key, limited use, only accessing facts\")\n",
    "\n",
    "# Section for API interaction\n",
    "st.header(\"Get Random Cat Facts\")\n",
    "num_facts = st.slider(\"Number of facts to fetch\", min_value=1, max_value=20, value=5, key=\"facts_slider_1\")\n",
    "\n",
    "# Fetch data from the CatsAPI\n",
    "if st.button(\"Fetch Cat Facts\"):\n",
    "    url = f\"https://catfact.ninja/facts?limit={num_facts}\"\n",
    "    response = requests.get(url)\n",
    "    \n",
    "    if response.status_code == 200:\n",
    "        data = response.json()\n",
    "        facts = data['data']\n",
    "\n",
    "        # Display the facts in a DataFrame\n",
    "        df = pd.DataFrame(facts)\n",
    "        st.write(\"Fetched Cat Facts:\")\n",
    "        st.dataframe(df)\n",
    "\n",
    "        # Optional: Save to CSV\n",
    "        if st.button(\"Save to CSV\"):\n",
    "            df.to_csv(\"cat_facts.csv\", index=False)\n",
    "            st.success(\"Saved cat facts to cat_facts.csv!\")\n",
    "    else:\n",
    "        st.error(\"Failed to fetch cat facts. Please try again later.\")"
   ]
  },
  {
   "cell_type": "code",
   "execution_count": 3,
   "id": "dabdb05c",
   "metadata": {},
   "outputs": [
    {
     "name": "stderr",
     "output_type": "stream",
     "text": [
      "2024-11-19 17:53:11.313 Thread 'MainThread': missing ScriptRunContext! This warning can be ignored when running in bare mode.\n",
      "2024-11-19 17:53:11.315 Thread 'MainThread': missing ScriptRunContext! This warning can be ignored when running in bare mode.\n",
      "2024-11-19 17:53:11.318 Thread 'MainThread': missing ScriptRunContext! This warning can be ignored when running in bare mode.\n",
      "2024-11-19 17:53:11.320 Thread 'MainThread': missing ScriptRunContext! This warning can be ignored when running in bare mode.\n",
      "2024-11-19 17:53:11.322 Thread 'MainThread': missing ScriptRunContext! This warning can be ignored when running in bare mode.\n",
      "2024-11-19 17:53:11.324 Thread 'MainThread': missing ScriptRunContext! This warning can be ignored when running in bare mode.\n",
      "2024-11-19 17:53:11.329 Thread 'MainThread': missing ScriptRunContext! This warning can be ignored when running in bare mode.\n",
      "2024-11-19 17:53:11.331 Thread 'MainThread': missing ScriptRunContext! This warning can be ignored when running in bare mode.\n",
      "2024-11-19 17:53:11.333 Thread 'MainThread': missing ScriptRunContext! This warning can be ignored when running in bare mode.\n",
      "2024-11-19 17:53:11.335 Thread 'MainThread': missing ScriptRunContext! This warning can be ignored when running in bare mode.\n",
      "2024-11-19 17:53:11.336 Thread 'MainThread': missing ScriptRunContext! This warning can be ignored when running in bare mode.\n",
      "2024-11-19 17:53:11.338 Thread 'MainThread': missing ScriptRunContext! This warning can be ignored when running in bare mode.\n",
      "2024-11-19 17:53:11.341 Thread 'MainThread': missing ScriptRunContext! This warning can be ignored when running in bare mode.\n",
      "2024-11-19 17:53:11.342 Thread 'MainThread': missing ScriptRunContext! This warning can be ignored when running in bare mode.\n"
     ]
    }
   ],
   "source": [
    "# Get API key from environment variable\n",
    "api_key = os.getenv(\"CAT_API_KEY\")  # Replace \"CAT_API_KEY\" with the key name in your .env or deployment settings\n",
    "\n",
    "if not api_key:\n",
    "    st.error(\"API Key not found. Please set 'CAT_API_KEY' as an environment variable.\")\n",
    "\n",
    "# Endpoint for cat images\n",
    "url = \"https://api.thecatapi.com/v1/images/search\"\n",
    "\n",
    "# Request headers with API key\n",
    "headers = {\n",
    "    \"x-api-key\": api_key\n",
    "}\n",
    "\n",
    "# Title of the app\n",
    "st.title(\"Cats API Scraper with key\")\n",
    "\n",
    "# Section for API interaction\n",
    "st.header(\"Get Random Cat Images\")\n",
    "num_images = st.slider(\"Number of images to fetch\", min_value=1, max_value=20, value=5, key=\"image_slider\")\n",
    "\n",
    "# Fetch data from the CatsAPI\n",
    "if st.button(\"Fetch Cat Images\"):\n",
    "    # Correctly use `num_images` from the slider\n",
    "    response = requests.get(url, headers=headers, params={\"limit\": num_images})\n",
    "    \n",
    "    if response.status_code == 200:\n",
    "        data = response.json()\n",
    "        \n",
    "        # Extract image URLs\n",
    "        image_urls = [item['url'] for item in data]\n",
    "        \n",
    "        # Display images\n",
    "        st.write(\"Fetched Cat Images:\")\n",
    "        for img_url in image_urls:\n",
    "            st.image(img_url, caption=img_url, use_container_width=True)\n",
    "\n",
    "        # Optional: Save to CSV\n",
    "        if st.button(\"Save to CSV\"):\n",
    "            df = pd.DataFrame(image_urls, columns=[\"Image URL\"])\n",
    "            df.to_csv(\"cat_images.csv\", index=False)\n",
    "            st.success(\"Saved cat images to cat_images.csv!\")\n",
    "    else:\n",
    "        st.error(\"Failed to fetch cat images. Please try again later.\")"
   ]
  }
 ],
 "metadata": {
  "kernelspec": {
   "display_name": "Python 3 (ipykernel)",
   "language": "python",
   "name": "python3"
  },
  "language_info": {
   "codemirror_mode": {
    "name": "ipython",
    "version": 3
   },
   "file_extension": ".py",
   "mimetype": "text/x-python",
   "name": "python",
   "nbconvert_exporter": "python",
   "pygments_lexer": "ipython3",
   "version": "3.8.18"
  }
 },
 "nbformat": 4,
 "nbformat_minor": 5
}
